{
  "nbformat": 4,
  "nbformat_minor": 0,
  "metadata": {
    "colab": {
      "provenance": [],
      "authorship_tag": "ABX9TyOgsMUmpPQ0GqqxVsslFm3C",
      "include_colab_link": true
    },
    "kernelspec": {
      "name": "python3",
      "display_name": "Python 3"
    },
    "language_info": {
      "name": "python"
    }
  },
  "cells": [
    {
      "cell_type": "markdown",
      "metadata": {
        "id": "view-in-github",
        "colab_type": "text"
      },
      "source": [
        "<a href=\"https://colab.research.google.com/github/QaziSaim/Post-Discharge-Medical-AI-Assistant-POC-/blob/main/Medical_MultiAgent_Bot.ipynb\" target=\"_parent\"><img src=\"https://colab.research.google.com/assets/colab-badge.svg\" alt=\"Open In Colab\"/></a>"
      ]
    },
    {
      "cell_type": "code",
      "execution_count": null,
      "metadata": {
        "id": "lfZT2NRr-skz"
      },
      "outputs": [],
      "source": [
        "!pip install -qU crewai\n",
        "!pip install crewai_tools\n",
        "!pip install -qU langchain-groq\n",
        "!pip install sentence-transformers\n"
      ]
    },
    {
      "cell_type": "code",
      "source": [],
      "metadata": {
        "id": "IjmL47r6-avw"
      },
      "execution_count": null,
      "outputs": []
    }
  ]
}